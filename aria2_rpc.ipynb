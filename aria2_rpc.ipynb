{
  "nbformat": 4,
  "nbformat_minor": 0,
  "metadata": {
    "colab": {
      "provenance": [],
      "authorship_tag": "ABX9TyOYw2AKMyvF+lHytzSbAptE",
      "include_colab_link": true
    },
    "kernelspec": {
      "name": "python3",
      "display_name": "Python 3"
    },
    "language_info": {
      "name": "python"
    }
  },
  "cells": [
    {
      "cell_type": "markdown",
      "metadata": {
        "id": "view-in-github",
        "colab_type": "text"
      },
      "source": [
        "<a href=\"https://colab.research.google.com/github/DevonTM/aria2-rpc-colab/blob/main/aria2_rpc.ipynb\" target=\"_parent\"><img src=\"https://colab.research.google.com/assets/colab-badge.svg\" alt=\"Open In Colab\"/></a>"
      ]
    },
    {
      "cell_type": "markdown",
      "source": [
        "#[aria2](https://aria2.github.io) rpc behind [cloudflared](https://github.com/cloudflare/cloudflared) reverse proxy"
      ],
      "metadata": {
        "id": "GUleZtaDSRX4"
      }
    },
    {
      "cell_type": "markdown",
      "source": [
        "####instruction:\n",
        "1. run the first script, you will get trycloudflare link, copy that and paste on your aria2c rpc client like [aria2p](https://github.com/pawamoy/aria2p) or [AriaNg](https://ariang.mayswind.net/) or browser extension and append /jsonrpc (example: `https://te-maiden-introduce-knitting.trycloudflare.com/jsonrpc` or `wss://te-maiden-introduce-knitting.trycloudflare.com:443/jsonrpc` for *AriaNg*), don't forget to enter the secret token, default is `88888888`\n",
        "2. stop the first script when you done then run the second script to move your downloaded files to your Google Drive"
      ],
      "metadata": {
        "id": "SjzJT4AXd3xw"
      }
    },
    {
      "cell_type": "markdown",
      "source": [
        "###1. install prerequisite and run it"
      ],
      "metadata": {
        "id": "ifu8IhxbYYKh"
      }
    },
    {
      "cell_type": "code",
      "execution_count": null,
      "metadata": {
        "id": "ENlMgiuZSMSr"
      },
      "outputs": [],
      "source": [
        "### download, install and start aria2 daemon ###\n",
        "!wget -c https://github.com/DevonTM/aria2-rpc-colab/releases/download/1.36.0/aria2-1.36.0-openssl-3.1.0-alpha1-linux-x86_64.tar.gz -O aria2.tar.gz\n",
        "!tar xf aria2.tar.gz\n",
        "!mv aria2c /usr/local/bin/\n",
        "!mkdir downloads\n",
        "!aria2c --enable-rpc --rpc-secret 88888888 --daemon=true --file-allocation=falloc --dir=/content/downloads\n",
        "\n",
        "### download, install and start cloudflared tunnel ###\n",
        "!wget -c https://github.com/cloudflare/cloudflared/releases/latest/download/cloudflared-linux-amd64.deb\n",
        "!dpkg -i cloudflared-linux-amd64.deb\n",
        "!cloudflared tunnel --url localhost:6800"
      ]
    },
    {
      "cell_type": "markdown",
      "source": [
        "###2. move downloaded files to google drive"
      ],
      "metadata": {
        "id": "Zp3iT9N5Yy92"
      }
    },
    {
      "cell_type": "code",
      "source": [
        "from google.colab import drive\n",
        "drive.mount('/content/gdrive/', force_remount=True)\n",
        "!mkdir -p gdrive/MyDrive/downloads\n",
        "!mv -f -v downloads/* gdrive/MyDrive/downloads/"
      ],
      "metadata": {
        "id": "WHOpo9cLZDwL"
      },
      "execution_count": null,
      "outputs": []
    }
  ]
}