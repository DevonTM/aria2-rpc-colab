{
  "cells": [
    {
      "cell_type": "markdown",
      "metadata": {
        "id": "view-in-github",
        "colab_type": "text"
      },
      "source": [
        "<a href=\"https://colab.research.google.com/github/DevonTM/aria2-rpc-colab/blob/main/aria2_rpc.ipynb\" target=\"_parent\"><img src=\"https://colab.research.google.com/assets/colab-badge.svg\" alt=\"Open In Colab\"/></a>"
      ]
    },
    {
      "cell_type": "markdown",
      "metadata": {
        "id": "GUleZtaDSRX4"
      },
      "source": [
        "#[aria2](https://aria2.github.io) rpc behind [cloudflared](https://github.com/cloudflare/cloudflared) reverse proxy"
      ]
    },
    {
      "cell_type": "markdown",
      "metadata": {
        "id": "SjzJT4AXd3xw"
      },
      "source": [
        "####Instruction:\n",
        "1. Run the first script, you will get trycloudflare link, copy that\n",
        "2. Open [AriaNg](https://ariang.mayswind.net/latest) go to AriaNg Settings > RPC tab paste link inside RPC Address, change :6800 to :443\n",
        "3. Change RPC Protocol to WebSocket (Security), then enter the RPC Secret Token `88888888`\n",
        "2. When you're done, stop the first script  then run the second script to move your downloaded files to your Google Drive"
      ]
    },
    {
      "cell_type": "markdown",
      "metadata": {
        "id": "ifu8IhxbYYKh"
      },
      "source": [
        "###1. Install prerequisite and run it"
      ]
    },
    {
      "cell_type": "code",
      "execution_count": null,
      "metadata": {
        "id": "ENlMgiuZSMSr"
      },
      "outputs": [],
      "source": [
        "### download, install and start aria2 daemon ###\n",
        "!wget -c https://github.com/DevonTM/aria2-rpc-colab/releases/download/1.36.0/aria2-1.36.0-linux-x86_64.tar.gz -O aria2.tar.gz\n",
        "!tar xf aria2.tar.gz\n",
        "!mv aria2c /usr/local/bin/\n",
        "!mkdir downloads\n",
        "!aria2c --enable-rpc --rpc-secret 88888888 --daemon=true --file-allocation=falloc --dir=/content/downloads\n",
        "\n",
        "### download, install and start cloudflared tunnel ###\n",
        "!wget -c https://github.com/cloudflare/cloudflared/releases/latest/download/cloudflared-linux-amd64.deb\n",
        "!dpkg -i cloudflared-linux-amd64.deb\n",
        "!cloudflared tunnel --url localhost:6800"
      ]
    },
    {
      "cell_type": "markdown",
      "metadata": {
        "id": "Zp3iT9N5Yy92"
      },
      "source": [
        "###2. Move downloaded files to google drive"
      ]
    },
    {
      "cell_type": "code",
      "execution_count": null,
      "metadata": {
        "id": "WHOpo9cLZDwL"
      },
      "outputs": [],
      "source": [
        "from google.colab import drive\n",
        "drive.mount('/content/gdrive/', force_remount=True)\n",
        "!mkdir -p gdrive/MyDrive/downloads\n",
        "!mv -f -v downloads/* gdrive/MyDrive/downloads/"
      ]
    }
  ],
  "metadata": {
    "colab": {
      "provenance": [],
      "authorship_tag": "ABX9TyMfWWIR5Vfi/N6/fVUqqunZ",
      "include_colab_link": true
    },
    "kernelspec": {
      "display_name": "Python 3",
      "name": "python3"
    },
    "language_info": {
      "name": "python"
    }
  },
  "nbformat": 4,
  "nbformat_minor": 0
}